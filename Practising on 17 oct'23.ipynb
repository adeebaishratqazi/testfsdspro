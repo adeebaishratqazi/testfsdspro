{
 "cells": [
  {
   "cell_type": "code",
   "execution_count": null,
   "id": "52433cbd-52d6-4eba-876a-035b1377d149",
   "metadata": {},
   "outputs": [],
   "source": [
    "1+2"
   ]
  },
  {
   "cell_type": "code",
   "execution_count": null,
   "id": "694ffaa8-45f4-4618-a28e-1588515602eb",
   "metadata": {},
   "outputs": [],
   "source": [
    "a = 10"
   ]
  },
  {
   "cell_type": "code",
   "execution_count": null,
   "id": "94db1b02-de6c-4677-8598-3135c331052a",
   "metadata": {},
   "outputs": [],
   "source": [
    "a"
   ]
  },
  {
   "cell_type": "code",
   "execution_count": null,
   "id": "49144b63-1033-43dd-a87d-7d99a0ba839b",
   "metadata": {},
   "outputs": [],
   "source": [
    "adeeba = 564254523"
   ]
  },
  {
   "cell_type": "code",
   "execution_count": null,
   "id": "a3149eb3-1ef7-426c-9967-758d83eff26d",
   "metadata": {},
   "outputs": [],
   "source": [
    "adeeba"
   ]
  },
  {
   "cell_type": "code",
   "execution_count": null,
   "id": "3d7b9f10-41a3-4c5c-9aae-ff32ca7a42fa",
   "metadata": {},
   "outputs": [],
   "source": [
    "type(adeeba)"
   ]
  },
  {
   "cell_type": "code",
   "execution_count": null,
   "id": "f3345239-ea20-498a-8ee5-3fffc030483d",
   "metadata": {},
   "outputs": [],
   "source": [
    "type(a)"
   ]
  },
  {
   "cell_type": "code",
   "execution_count": null,
   "id": "956b61a6-18be-41b4-8369-0f683b744447",
   "metadata": {},
   "outputs": [],
   "source": [
    "s = \"pwskills\""
   ]
  },
  {
   "cell_type": "code",
   "execution_count": null,
   "id": "9222e191-3322-445c-8fdd-ecd27b6d50af",
   "metadata": {},
   "outputs": [],
   "source": [
    "type(s)"
   ]
  },
  {
   "cell_type": "code",
   "execution_count": null,
   "id": "09a33512-94b8-49c7-a1f4-ff75148d93b4",
   "metadata": {},
   "outputs": [],
   "source": [
    "s"
   ]
  },
  {
   "cell_type": "code",
   "execution_count": null,
   "id": "02659219-d28c-47f3-b0d2-6fb6029315b3",
   "metadata": {},
   "outputs": [],
   "source": [
    "s1 = 'this is my first python lecture'"
   ]
  },
  {
   "cell_type": "code",
   "execution_count": null,
   "id": "0bdb9ae7-2f7c-4dd5-a129-b64aad6373db",
   "metadata": {},
   "outputs": [],
   "source": [
    "s1"
   ]
  },
  {
   "cell_type": "code",
   "execution_count": null,
   "id": "e6d433dc-6074-4968-ad16-940299680a5e",
   "metadata": {},
   "outputs": [],
   "source": [
    "type(s1)"
   ]
  },
  {
   "cell_type": "code",
   "execution_count": null,
   "id": "35b77260-a5de-4a24-a339-1a95c446ae39",
   "metadata": {},
   "outputs": [],
   "source": [
    "f = 4652.5698"
   ]
  },
  {
   "cell_type": "code",
   "execution_count": null,
   "id": "310d2194-596e-4f0f-8e98-f23e74048b15",
   "metadata": {},
   "outputs": [],
   "source": [
    "f"
   ]
  },
  {
   "cell_type": "code",
   "execution_count": null,
   "id": "f4a59e8f-2b22-4c5c-bcb2-1b3c4faf24cc",
   "metadata": {},
   "outputs": [],
   "source": [
    "type(f)"
   ]
  },
  {
   "cell_type": "code",
   "execution_count": null,
   "id": "d9765b3d-112f-42c4-a562-f9080ee01a2a",
   "metadata": {},
   "outputs": [],
   "source": [
    "c = 5 + 6j"
   ]
  },
  {
   "cell_type": "code",
   "execution_count": null,
   "id": "d0ee1403-1c81-4763-997a-a74970dc533d",
   "metadata": {},
   "outputs": [],
   "source": [
    "type(c)"
   ]
  },
  {
   "cell_type": "code",
   "execution_count": null,
   "id": "f7141ca8-2fe5-41e0-a369-4794f28c55e8",
   "metadata": {},
   "outputs": [],
   "source": [
    "c"
   ]
  },
  {
   "cell_type": "code",
   "execution_count": null,
   "id": "994a62b0-ac34-458b-bcc4-4a51b6f575a7",
   "metadata": {},
   "outputs": [],
   "source": [
    "c.real"
   ]
  },
  {
   "cell_type": "code",
   "execution_count": null,
   "id": "9f17e0d7-8f77-4410-9f61-62a68c9faf5f",
   "metadata": {},
   "outputs": [],
   "source": [
    "c.imag"
   ]
  },
  {
   "cell_type": "markdown",
   "id": "ba6d2e45-fe14-4597-8559-2e828b0abe19",
   "metadata": {},
   "source": [
    "int = nos or words, str = words in between the 1 or 2 quotes, floating point number = numbers with point, complex number = real or imaginary numbers."
   ]
  },
  {
   "cell_type": "code",
   "execution_count": null,
   "id": "a40e1d82-89ae-454e-b355-24bb2a8ba890",
   "metadata": {},
   "outputs": [],
   "source": [
    "b = True"
   ]
  },
  {
   "cell_type": "code",
   "execution_count": null,
   "id": "b4dd4d8e-7089-4a0d-9732-9b509870dab7",
   "metadata": {},
   "outputs": [],
   "source": [
    "b"
   ]
  },
  {
   "cell_type": "code",
   "execution_count": null,
   "id": "f035325b-28d5-404e-911f-c6eb5e2c75f1",
   "metadata": {},
   "outputs": [],
   "source": [
    "type(b)"
   ]
  },
  {
   "cell_type": "code",
   "execution_count": null,
   "id": "6b8852e6-4b08-4d42-acae-85cdd8a884f4",
   "metadata": {},
   "outputs": [],
   "source": [
    "b1 = False"
   ]
  },
  {
   "cell_type": "code",
   "execution_count": null,
   "id": "1b38dbda-33dd-4fa5-9433-99352b7ee51d",
   "metadata": {},
   "outputs": [],
   "source": [
    "b1"
   ]
  },
  {
   "cell_type": "code",
   "execution_count": null,
   "id": "1ca68b4c-5c3d-48bf-88bf-c959f3ebaf81",
   "metadata": {},
   "outputs": [],
   "source": [
    "type(b1)"
   ]
  },
  {
   "cell_type": "code",
   "execution_count": null,
   "id": "f4ca543c-2759-4f70-9ae8-6f53fcb3aca7",
   "metadata": {},
   "outputs": [],
   "source": [
    "a1 = 45\n",
    "a2 = 34"
   ]
  },
  {
   "cell_type": "code",
   "execution_count": null,
   "id": "ebf6a85e-57d1-490d-b366-f8790656e393",
   "metadata": {},
   "outputs": [],
   "source": [
    "a1 + a2"
   ]
  },
  {
   "cell_type": "code",
   "execution_count": null,
   "id": "7bdc7b1d-f8db-4cdd-9b89-47710e71df26",
   "metadata": {},
   "outputs": [],
   "source": [
    "a1*a2"
   ]
  },
  {
   "cell_type": "code",
   "execution_count": null,
   "id": "384abf40-a72b-4106-9d7f-140cea802889",
   "metadata": {},
   "outputs": [],
   "source": [
    "a1/a2"
   ]
  },
  {
   "cell_type": "code",
   "execution_count": null,
   "id": "a74c5b0b-682e-45dc-b8d7-d787e83d64ff",
   "metadata": {},
   "outputs": [],
   "source": [
    "a1-a2"
   ]
  },
  {
   "cell_type": "code",
   "execution_count": null,
   "id": "566b24cd-b6d5-42d1-bad5-079a367fe6cb",
   "metadata": {},
   "outputs": [],
   "source": [
    "a1 , a2 = 34,45"
   ]
  },
  {
   "cell_type": "code",
   "execution_count": null,
   "id": "abfa235a-df58-4eaf-a478-43be319d2c4a",
   "metadata": {},
   "outputs": [],
   "source": [
    "a1"
   ]
  },
  {
   "cell_type": "code",
   "execution_count": null,
   "id": "4fd79f4a-c430-4043-bbed-79e15306c42c",
   "metadata": {},
   "outputs": [],
   "source": [
    "a2"
   ]
  },
  {
   "cell_type": "code",
   "execution_count": null,
   "id": "19650213-e8ee-4a65-843d-7432e6ba952d",
   "metadata": {},
   "outputs": [],
   "source": [
    "a,b,c,d = 354,\"adeeba\",34.34,True"
   ]
  },
  {
   "cell_type": "code",
   "execution_count": null,
   "id": "fd510a05-650e-4e6f-bfaa-6a1253f52900",
   "metadata": {},
   "outputs": [],
   "source": [
    "a"
   ]
  },
  {
   "cell_type": "code",
   "execution_count": null,
   "id": "cec5f20c-6a58-4549-834f-ee7704760e8f",
   "metadata": {},
   "outputs": [],
   "source": [
    "b"
   ]
  },
  {
   "cell_type": "code",
   "execution_count": null,
   "id": "11d1e00f-b143-4c10-92d3-ab9019ac3073",
   "metadata": {},
   "outputs": [],
   "source": [
    "c"
   ]
  },
  {
   "cell_type": "code",
   "execution_count": null,
   "id": "040807c1-d81c-4835-bf1d-7878fd659a02",
   "metadata": {},
   "outputs": [],
   "source": [
    "d"
   ]
  },
  {
   "cell_type": "code",
   "execution_count": null,
   "id": "6ad5e352-2c85-4e6d-899c-93bd55998cbf",
   "metadata": {},
   "outputs": [],
   "source": [
    "%a = 234"
   ]
  },
  {
   "cell_type": "code",
   "execution_count": null,
   "id": "3d1d6d57-391c-44b2-ad4e-ef64b43fdc77",
   "metadata": {},
   "outputs": [],
   "source": [
    "0b = 2342"
   ]
  },
  {
   "cell_type": "code",
   "execution_count": null,
   "id": "7110dc59-3484-4add-93d2-7675e1c2ddba",
   "metadata": {},
   "outputs": [],
   "source": [
    "b0 = 234"
   ]
  },
  {
   "cell_type": "code",
   "execution_count": null,
   "id": "ef6af9d0-cc71-4426-ab52-901be2559fa5",
   "metadata": {},
   "outputs": [],
   "source": [
    "@h = 3543"
   ]
  },
  {
   "cell_type": "code",
   "execution_count": null,
   "id": "ee3b2eb5-d70b-4fd5-bc61-95028d02e2e4",
   "metadata": {},
   "outputs": [],
   "source": [
    "h@ = 2589"
   ]
  },
  {
   "cell_type": "code",
   "execution_count": null,
   "id": "f2ea6194-6e4c-4d03-8342-23bbdf5fa9ea",
   "metadata": {},
   "outputs": [],
   "source": [
    "_a = 34"
   ]
  },
  {
   "cell_type": "code",
   "execution_count": null,
   "id": "0b4a68fb-4423-48f9-913d-ebbac59490f2",
   "metadata": {},
   "outputs": [],
   "source": [
    "_a"
   ]
  },
  {
   "cell_type": "code",
   "execution_count": null,
   "id": "1a003177-7db9-47ac-be41-6dd5c491b231",
   "metadata": {},
   "outputs": [],
   "source": [
    "-b = 234"
   ]
  },
  {
   "cell_type": "code",
   "execution_count": null,
   "id": "3e36fdb2-5ea7-42ea-b842-032df60163d3",
   "metadata": {},
   "outputs": [],
   "source": [
    "True = 45"
   ]
  },
  {
   "cell_type": "code",
   "execution_count": null,
   "id": "80c98bd2-d282-4912-b162-e895e041da7a",
   "metadata": {},
   "outputs": [],
   "source": [
    "int = 345"
   ]
  },
  {
   "cell_type": "code",
   "execution_count": null,
   "id": "a6fc8be0-69fe-4d0f-823a-c153ae6bb045",
   "metadata": {},
   "outputs": [],
   "source": [
    "int"
   ]
  },
  {
   "cell_type": "code",
   "execution_count": null,
   "id": "4ce3f4aa-4788-415f-91f7-da990858a9ab",
   "metadata": {},
   "outputs": [],
   "source": [
    "b1 = True"
   ]
  },
  {
   "cell_type": "code",
   "execution_count": null,
   "id": "57142a7d-85ef-4631-b547-c58c5334f53f",
   "metadata": {},
   "outputs": [],
   "source": [
    "b2 = False"
   ]
  },
  {
   "cell_type": "code",
   "execution_count": null,
   "id": "88fd54e3-bbb3-4d8c-a4f9-094a063383f3",
   "metadata": {},
   "outputs": [],
   "source": [
    "b1-b2"
   ]
  },
  {
   "cell_type": "code",
   "execution_count": null,
   "id": "ce84c2b6-993f-4ff7-8c1c-a78f83f39104",
   "metadata": {},
   "outputs": [],
   "source": [
    "b2-b1"
   ]
  },
  {
   "cell_type": "code",
   "execution_count": null,
   "id": "21b2983a-a93f-450f-948c-639c1ce76bda",
   "metadata": {},
   "outputs": [],
   "source": [
    "b1*b1"
   ]
  },
  {
   "cell_type": "code",
   "execution_count": null,
   "id": "f12ef420-e041-4f4a-931f-c10fcd596ffa",
   "metadata": {},
   "outputs": [],
   "source": [
    "b1/b2"
   ]
  },
  {
   "cell_type": "code",
   "execution_count": null,
   "id": "f7da2c0b-63ef-4e38-8a10-2af50c810860",
   "metadata": {},
   "outputs": [],
   "source": [
    "b2/b1"
   ]
  },
  {
   "cell_type": "code",
   "execution_count": null,
   "id": "f4784394-4971-4b56-9b56-ad657cf7193e",
   "metadata": {},
   "outputs": [],
   "source": [
    "s1 = 'my name is adeeba qazi'"
   ]
  },
  {
   "cell_type": "code",
   "execution_count": null,
   "id": "8374d482-beee-4c2c-8c09-9496d6dc95be",
   "metadata": {},
   "outputs": [],
   "source": [
    "s1"
   ]
  },
  {
   "cell_type": "code",
   "execution_count": null,
   "id": "91afabe7-8fef-42c8-b827-e12410a6d6fa",
   "metadata": {},
   "outputs": [],
   "source": [
    "type(s1)"
   ]
  },
  {
   "cell_type": "code",
   "execution_count": null,
   "id": "7022509e-cc1c-449e-b35c-84e02bb12a5a",
   "metadata": {},
   "outputs": [],
   "source": [
    "s2 = \"this is my first python class for data science master's\""
   ]
  },
  {
   "cell_type": "code",
   "execution_count": null,
   "id": "8f514ee8-659e-4017-bc73-f558c134a54e",
   "metadata": {},
   "outputs": [],
   "source": [
    "s2"
   ]
  },
  {
   "cell_type": "code",
   "execution_count": null,
   "id": "82a7e1bc-488b-4628-9438-9f0ba88c3468",
   "metadata": {},
   "outputs": [],
   "source": [
    "s3 = 'this is my first python class for data science master\"s'"
   ]
  },
  {
   "cell_type": "code",
   "execution_count": null,
   "id": "dcd9b866-e6e8-45cd-b657-5b1901070cdf",
   "metadata": {},
   "outputs": [],
   "source": [
    "s3"
   ]
  },
  {
   "cell_type": "code",
   "execution_count": null,
   "id": "d74b8d9c-5fd3-4b2a-8b33-8c964359798e",
   "metadata": {},
   "outputs": [],
   "source": [
    "this is my code to create a string variable with quotes\n",
    "\n",
    "s3 = 'this is my first python class for data science master\"s'"
   ]
  },
  {
   "cell_type": "code",
   "execution_count": null,
   "id": "d91902e0-082d-415c-9043-fd55bb0f230e",
   "metadata": {},
   "outputs": [],
   "source": [
    "#this is my code to create a string variable with quotes\n",
    "\n",
    "s3 = 'this is my first python class for data science master\"s'"
   ]
  },
  {
   "cell_type": "code",
   "execution_count": null,
   "id": "211bb154-7227-45d1-8fbd-815c4203daf3",
   "metadata": {},
   "outputs": [],
   "source": [
    "this is my first python class \n",
    "i am trying to learn variable declaration\n",
    "so far i have learnt int, str, floating point number, complex number and boolean \n",
    "a = 10"
   ]
  },
  {
   "cell_type": "code",
   "execution_count": null,
   "id": "212140a5-6560-4a6c-a0f4-7a38196a701b",
   "metadata": {},
   "outputs": [],
   "source": [
    "#this is my first python class \n",
    "#i am trying to learn variable declaration\n",
    "#so far i have learnt int, str, floating point number, complex number and boolean \n",
    "a = 10"
   ]
  },
  {
   "cell_type": "code",
   "execution_count": null,
   "id": "ca199b98-d75c-4b60-9396-beb6ef9882af",
   "metadata": {},
   "outputs": [],
   "source": [
    "'''this is my first python class \n",
    "i am trying to learn variable declaration\n",
    "so far i have learnt int, str, floating point number, complex number and boolean'''\n",
    "a = 10"
   ]
  },
  {
   "cell_type": "code",
   "execution_count": null,
   "id": "89d3df09-69f6-4ce2-8f18-f7e27c6356b5",
   "metadata": {},
   "outputs": [],
   "source": [
    "s1 = \"adeeba\""
   ]
  },
  {
   "cell_type": "code",
   "execution_count": null,
   "id": "90bf9437-6349-4630-a0ab-bc5a2e975237",
   "metadata": {},
   "outputs": [],
   "source": [
    "a = 10"
   ]
  },
  {
   "cell_type": "code",
   "execution_count": null,
   "id": "acb99a3e-2855-4cbf-a4ee-d6169695bd40",
   "metadata": {},
   "outputs": [],
   "source": [
    "s1 + a"
   ]
  },
  {
   "cell_type": "code",
   "execution_count": null,
   "id": "a6e545b3-c7df-422b-807d-a8cf29731284",
   "metadata": {},
   "outputs": [],
   "source": [
    "'adeeba' + 'qazi'"
   ]
  },
  {
   "cell_type": "code",
   "execution_count": null,
   "id": "1a115df5-65c0-4b6b-b1f1-d002073c3886",
   "metadata": {},
   "outputs": [],
   "source": [
    "a"
   ]
  },
  {
   "cell_type": "code",
   "execution_count": null,
   "id": "9d03ab1b-f4ec-46a2-ae88-a30e81c5dcd4",
   "metadata": {},
   "outputs": [],
   "source": [
    "type(a)"
   ]
  },
  {
   "cell_type": "code",
   "execution_count": null,
   "id": "946f54c2-037a-4b31-a8e7-8fd23b1e2c88",
   "metadata": {},
   "outputs": [],
   "source": [
    "str(a)"
   ]
  },
  {
   "cell_type": "code",
   "execution_count": null,
   "id": "6d6efb26-ddd0-4c17-86e2-339a3dae0ca0",
   "metadata": {},
   "outputs": [],
   "source": [
    "'10'"
   ]
  },
  {
   "cell_type": "code",
   "execution_count": null,
   "id": "41241349-221c-48d5-a9c0-4ea0cac89e63",
   "metadata": {},
   "outputs": [],
   "source": [
    "s1 + str(a)"
   ]
  },
  {
   "cell_type": "code",
   "execution_count": null,
   "id": "4c4ffe8c-3c8c-4d26-a3db-92ba4e3f7285",
   "metadata": {},
   "outputs": [],
   "source": [
    "s1 + \" \" +str(a)"
   ]
  },
  {
   "cell_type": "code",
   "execution_count": null,
   "id": "7912b57c-e55f-4891-8139-6b1ec281739c",
   "metadata": {},
   "outputs": [],
   "source": [
    "s1 + \"a\""
   ]
  },
  {
   "cell_type": "code",
   "execution_count": null,
   "id": "b9679cdd-25ae-45ea-a73e-2376e635bf3b",
   "metadata": {},
   "outputs": [],
   "source": [
    "s1 + \"aa\""
   ]
  },
  {
   "cell_type": "code",
   "execution_count": null,
   "id": "7460eb52-82ac-49b8-9134-ff0258f04214",
   "metadata": {},
   "outputs": [],
   "source": [
    "s1 + \"qazi\""
   ]
  },
  {
   "cell_type": "code",
   "execution_count": null,
   "id": "5e87e505-ce74-466d-98bf-0613e93e3196",
   "metadata": {},
   "outputs": [],
   "source": [
    "a"
   ]
  },
  {
   "cell_type": "code",
   "execution_count": null,
   "id": "9700ef6f-527a-4ae2-932c-f45db2002819",
   "metadata": {},
   "outputs": [],
   "source": [
    "b = str(a)"
   ]
  },
  {
   "cell_type": "code",
   "execution_count": null,
   "id": "095970de-b6d6-4ab7-aa36-6682996feb82",
   "metadata": {},
   "outputs": [],
   "source": [
    "b"
   ]
  },
  {
   "cell_type": "code",
   "execution_count": null,
   "id": "be6e8f39-d279-4dcf-8798-133a10c4e02f",
   "metadata": {},
   "outputs": [],
   "source": [
    "int(b)"
   ]
  },
  {
   "cell_type": "code",
   "execution_count": null,
   "id": "e5f444b8-2d0f-407f-941b-6ffdbb946386",
   "metadata": {},
   "outputs": [],
   "source": [
    "s = \"adeeba\""
   ]
  },
  {
   "cell_type": "code",
   "execution_count": null,
   "id": "d06636ca-978b-4186-8675-f718bc594579",
   "metadata": {},
   "outputs": [],
   "source": [
    "int(s)"
   ]
  },
  {
   "cell_type": "code",
   "execution_count": 1,
   "id": "c048dd28-25fa-4d98-a578-3b33ff918281",
   "metadata": {},
   "outputs": [],
   "source": [
    "a = 453253"
   ]
  },
  {
   "cell_type": "code",
   "execution_count": 23,
   "id": "064b5d3c-9125-4427-bc28-5785258a5778",
   "metadata": {},
   "outputs": [
    {
     "name": "stdin",
     "output_type": "stream",
     "text": [
      " 345.56677\n"
     ]
    }
   ],
   "source": [
    "b = float(input())"
   ]
  },
  {
   "cell_type": "code",
   "execution_count": 24,
   "id": "7ae4215b-f374-4a4f-911b-5eab1c3a79e7",
   "metadata": {},
   "outputs": [
    {
     "data": {
      "text/plain": [
       "345.56677"
      ]
     },
     "execution_count": 24,
     "metadata": {},
     "output_type": "execute_result"
    }
   ],
   "source": [
    "b"
   ]
  },
  {
   "cell_type": "code",
   "execution_count": 25,
   "id": "980135de-aa7e-4f2e-b20b-84f9085ffe34",
   "metadata": {},
   "outputs": [
    {
     "data": {
      "text/plain": [
       "float"
      ]
     },
     "execution_count": 25,
     "metadata": {},
     "output_type": "execute_result"
    }
   ],
   "source": [
    "type(b)"
   ]
  },
  {
   "cell_type": "code",
   "execution_count": null,
   "id": "d53c10f1-7ffc-4207-9a3b-3c6ee3548916",
   "metadata": {},
   "outputs": [],
   "source": [
    "b = bool(input()"
   ]
  },
  {
   "cell_type": "code",
   "execution_count": 2,
   "id": "28405f2b-a9e7-4aa1-8ec6-278e7af29f2c",
   "metadata": {},
   "outputs": [],
   "source": [
    "a = 453253 "
   ]
  },
  {
   "cell_type": "code",
   "execution_count": 3,
   "id": "c37d0945-979c-4504-995a-9a2b9921c32a",
   "metadata": {},
   "outputs": [
    {
     "name": "stdin",
     "output_type": "stream",
     "text": [
      " drefdrefdref\n"
     ]
    }
   ],
   "source": [
    "b = input()"
   ]
  },
  {
   "cell_type": "code",
   "execution_count": 4,
   "id": "24e44cab-ee6b-43dc-b570-89ed02c5541a",
   "metadata": {},
   "outputs": [
    {
     "data": {
      "text/plain": [
       "'drefdrefdref'"
      ]
     },
     "execution_count": 4,
     "metadata": {},
     "output_type": "execute_result"
    }
   ],
   "source": [
    "b"
   ]
  },
  {
   "cell_type": "code",
   "execution_count": 6,
   "id": "05077ee6-48eb-47d7-a102-de6170974976",
   "metadata": {},
   "outputs": [
    {
     "name": "stdin",
     "output_type": "stream",
     "text": [
      " 35433\n"
     ]
    }
   ],
   "source": [
    "b = input()"
   ]
  },
  {
   "cell_type": "code",
   "execution_count": 7,
   "id": "bc378a0b-a623-4e8a-9afa-7baf6c571f74",
   "metadata": {},
   "outputs": [
    {
     "data": {
      "text/plain": [
       "'35433'"
      ]
     },
     "execution_count": 7,
     "metadata": {},
     "output_type": "execute_result"
    }
   ],
   "source": [
    "b"
   ]
  },
  {
   "cell_type": "code",
   "execution_count": 8,
   "id": "20189a74-5906-4eca-8a89-1c03b64b94f2",
   "metadata": {},
   "outputs": [
    {
     "name": "stdin",
     "output_type": "stream",
     "text": [
      " 234\n"
     ]
    }
   ],
   "source": [
    "b = input()"
   ]
  },
  {
   "cell_type": "code",
   "execution_count": 9,
   "id": "a7c8e6e0-7fe1-42c4-8b76-e9e0b51f338a",
   "metadata": {},
   "outputs": [
    {
     "data": {
      "text/plain": [
       "'234'"
      ]
     },
     "execution_count": 9,
     "metadata": {},
     "output_type": "execute_result"
    }
   ],
   "source": [
    "b"
   ]
  },
  {
   "cell_type": "code",
   "execution_count": 10,
   "id": "9a989797-da5a-4d80-a336-a80e3dd9cb9b",
   "metadata": {},
   "outputs": [
    {
     "data": {
      "text/plain": [
       "str"
      ]
     },
     "execution_count": 10,
     "metadata": {},
     "output_type": "execute_result"
    }
   ],
   "source": [
    "type(b)"
   ]
  },
  {
   "cell_type": "code",
   "execution_count": 11,
   "id": "aa6bc3b8-2448-437d-9ce6-13bfdb5482c2",
   "metadata": {},
   "outputs": [
    {
     "name": "stdin",
     "output_type": "stream",
     "text": [
      " 35245.2545\n"
     ]
    }
   ],
   "source": [
    "b = input()"
   ]
  },
  {
   "cell_type": "code",
   "execution_count": 12,
   "id": "3fc14dcf-5d12-4245-a5ce-d1a8638064f0",
   "metadata": {},
   "outputs": [
    {
     "data": {
      "text/plain": [
       "'35245.2545'"
      ]
     },
     "execution_count": 12,
     "metadata": {},
     "output_type": "execute_result"
    }
   ],
   "source": [
    "b"
   ]
  },
  {
   "cell_type": "code",
   "execution_count": 13,
   "id": "2aa9f0f1-a8a4-48ae-b2e3-4583915688cc",
   "metadata": {},
   "outputs": [
    {
     "data": {
      "text/plain": [
       "str"
      ]
     },
     "execution_count": 13,
     "metadata": {},
     "output_type": "execute_result"
    }
   ],
   "source": [
    "type(b)"
   ]
  },
  {
   "cell_type": "code",
   "execution_count": 14,
   "id": "8fbae222-6e3e-4a3f-aeea-cbec21f4b611",
   "metadata": {},
   "outputs": [
    {
     "name": "stdin",
     "output_type": "stream",
     "text": [
      " True\n"
     ]
    }
   ],
   "source": [
    "b = input()"
   ]
  },
  {
   "cell_type": "code",
   "execution_count": 15,
   "id": "ba60c433-a663-4ccc-805f-1f509a0606d2",
   "metadata": {},
   "outputs": [
    {
     "data": {
      "text/plain": [
       "'True'"
      ]
     },
     "execution_count": 15,
     "metadata": {},
     "output_type": "execute_result"
    }
   ],
   "source": [
    "b"
   ]
  },
  {
   "cell_type": "code",
   "execution_count": 16,
   "id": "cb845031-1a4a-45a7-85b5-61868506822c",
   "metadata": {},
   "outputs": [
    {
     "data": {
      "text/plain": [
       "str"
      ]
     },
     "execution_count": 16,
     "metadata": {},
     "output_type": "execute_result"
    }
   ],
   "source": [
    "type(b)"
   ]
  },
  {
   "cell_type": "code",
   "execution_count": 18,
   "id": "fed68c84-7dd7-4f3a-9b14-2b4b8e4495c6",
   "metadata": {},
   "outputs": [
    {
     "name": "stdin",
     "output_type": "stream",
     "text": [
      " 456456\n"
     ]
    }
   ],
   "source": [
    "b = input()"
   ]
  },
  {
   "cell_type": "code",
   "execution_count": 19,
   "id": "00b4016b-6b57-4eec-be82-fda6164667a7",
   "metadata": {},
   "outputs": [
    {
     "data": {
      "text/plain": [
       "'456456'"
      ]
     },
     "execution_count": 19,
     "metadata": {},
     "output_type": "execute_result"
    }
   ],
   "source": [
    "b"
   ]
  },
  {
   "cell_type": "code",
   "execution_count": 20,
   "id": "1a9049cd-9ce1-40f0-b7d2-b1a48f8e81a3",
   "metadata": {},
   "outputs": [
    {
     "data": {
      "text/plain": [
       "456456"
      ]
     },
     "execution_count": 20,
     "metadata": {},
     "output_type": "execute_result"
    }
   ],
   "source": [
    "int(b)"
   ]
  },
  {
   "cell_type": "code",
   "execution_count": 21,
   "id": "42f54d11-3836-447c-97cd-304044801cf8",
   "metadata": {},
   "outputs": [
    {
     "data": {
      "text/plain": [
       "str"
      ]
     },
     "execution_count": 21,
     "metadata": {},
     "output_type": "execute_result"
    }
   ],
   "source": [
    "type(b)"
   ]
  },
  {
   "cell_type": "code",
   "execution_count": 22,
   "id": "de198b8d-2539-4625-88f8-e7d32a1f5dda",
   "metadata": {},
   "outputs": [
    {
     "data": {
      "text/plain": [
       "int"
      ]
     },
     "execution_count": 22,
     "metadata": {},
     "output_type": "execute_result"
    }
   ],
   "source": [
    "type(int(b))"
   ]
  },
  {
   "cell_type": "code",
   "execution_count": 23,
   "id": "1ad20711-fa58-49c3-b38e-ae3d06299836",
   "metadata": {},
   "outputs": [
    {
     "name": "stdin",
     "output_type": "stream",
     "text": [
      " 4564\n"
     ]
    }
   ],
   "source": [
    "b = int(input())"
   ]
  },
  {
   "cell_type": "code",
   "execution_count": 24,
   "id": "a7c316cc-bab1-455a-bf6f-bf50743e137f",
   "metadata": {},
   "outputs": [
    {
     "data": {
      "text/plain": [
       "4564"
      ]
     },
     "execution_count": 24,
     "metadata": {},
     "output_type": "execute_result"
    }
   ],
   "source": [
    "b"
   ]
  },
  {
   "cell_type": "code",
   "execution_count": 25,
   "id": "5b1fde58-499c-469a-a56b-505767dd7773",
   "metadata": {},
   "outputs": [
    {
     "data": {
      "text/plain": [
       "int"
      ]
     },
     "execution_count": 25,
     "metadata": {},
     "output_type": "execute_result"
    }
   ],
   "source": [
    "type(b)"
   ]
  },
  {
   "cell_type": "code",
   "execution_count": 26,
   "id": "64ba099d-75bd-498c-b819-3bf1bbf1eeeb",
   "metadata": {},
   "outputs": [
    {
     "name": "stdin",
     "output_type": "stream",
     "text": [
      " 345.543\n"
     ]
    }
   ],
   "source": [
    "b = float(input())"
   ]
  },
  {
   "cell_type": "code",
   "execution_count": 27,
   "id": "3f0f1192-1a5b-4ecd-82d3-438a7911aa4c",
   "metadata": {},
   "outputs": [
    {
     "data": {
      "text/plain": [
       "345.543"
      ]
     },
     "execution_count": 27,
     "metadata": {},
     "output_type": "execute_result"
    }
   ],
   "source": [
    "b"
   ]
  },
  {
   "cell_type": "code",
   "execution_count": 28,
   "id": "b9422e10-2f69-404f-84d5-6b0733813792",
   "metadata": {},
   "outputs": [
    {
     "data": {
      "text/plain": [
       "float"
      ]
     },
     "execution_count": 28,
     "metadata": {},
     "output_type": "execute_result"
    }
   ],
   "source": [
    "type(b)"
   ]
  },
  {
   "cell_type": "code",
   "execution_count": 29,
   "id": "e9d4eb19-f081-4b26-882e-af994cc1d9ea",
   "metadata": {},
   "outputs": [
    {
     "name": "stdin",
     "output_type": "stream",
     "text": [
      " False\n"
     ]
    }
   ],
   "source": [
    "b = bool(input())"
   ]
  },
  {
   "cell_type": "code",
   "execution_count": 30,
   "id": "c2408973-9ec6-42f9-b327-75d6cf9072ea",
   "metadata": {},
   "outputs": [
    {
     "data": {
      "text/plain": [
       "True"
      ]
     },
     "execution_count": 30,
     "metadata": {},
     "output_type": "execute_result"
    }
   ],
   "source": [
    "b"
   ]
  },
  {
   "cell_type": "code",
   "execution_count": 31,
   "id": "1154432b-a8d1-4331-8df8-0439fe6b3051",
   "metadata": {},
   "outputs": [
    {
     "data": {
      "text/plain": [
       "bool"
      ]
     },
     "execution_count": 31,
     "metadata": {},
     "output_type": "execute_result"
    }
   ],
   "source": [
    "type(b)"
   ]
  },
  {
   "cell_type": "code",
   "execution_count": 2,
   "id": "38be4dbf-2a79-4e13-986a-0472bc1ec826",
   "metadata": {},
   "outputs": [
    {
     "name": "stdin",
     "output_type": "stream",
     "text": [
      " 354345\n"
     ]
    }
   ],
   "source": [
    "d = input()"
   ]
  },
  {
   "cell_type": "code",
   "execution_count": 3,
   "id": "de97723e-0d83-45e7-a655-436a57c6ef85",
   "metadata": {},
   "outputs": [
    {
     "data": {
      "text/plain": [
       "'354345'"
      ]
     },
     "execution_count": 3,
     "metadata": {},
     "output_type": "execute_result"
    }
   ],
   "source": [
    "d"
   ]
  },
  {
   "cell_type": "code",
   "execution_count": 4,
   "id": "25d27cce-1177-4e98-a7d5-96f8d5e0d256",
   "metadata": {},
   "outputs": [
    {
     "name": "stdin",
     "output_type": "stream",
     "text": [
      " 35445\n"
     ]
    }
   ],
   "source": [
    "d = int(input())"
   ]
  },
  {
   "cell_type": "code",
   "execution_count": 5,
   "id": "03f3b0c6-76ef-4145-b612-d038a8d1c507",
   "metadata": {},
   "outputs": [
    {
     "data": {
      "text/plain": [
       "35445"
      ]
     },
     "execution_count": 5,
     "metadata": {},
     "output_type": "execute_result"
    }
   ],
   "source": [
    "d"
   ]
  },
  {
   "cell_type": "code",
   "execution_count": 6,
   "id": "0abb79f5-67f3-4ec4-bad5-2fd163448b47",
   "metadata": {},
   "outputs": [
    {
     "data": {
      "text/plain": [
       "int"
      ]
     },
     "execution_count": 6,
     "metadata": {},
     "output_type": "execute_result"
    }
   ],
   "source": [
    "type(d)"
   ]
  },
  {
   "cell_type": "code",
   "execution_count": 7,
   "id": "b6df2943-d91e-4767-943b-c73f7b196b4e",
   "metadata": {},
   "outputs": [
    {
     "name": "stdin",
     "output_type": "stream",
     "text": [
      " True\n"
     ]
    }
   ],
   "source": [
    "d = bool(input())"
   ]
  },
  {
   "cell_type": "code",
   "execution_count": 8,
   "id": "7ea4b96a-e403-421b-a974-d2826867c72d",
   "metadata": {},
   "outputs": [
    {
     "data": {
      "text/plain": [
       "True"
      ]
     },
     "execution_count": 8,
     "metadata": {},
     "output_type": "execute_result"
    }
   ],
   "source": [
    "d"
   ]
  },
  {
   "cell_type": "code",
   "execution_count": 9,
   "id": "7ef2ea31-13ac-46d7-838a-9fd55372fad3",
   "metadata": {},
   "outputs": [
    {
     "data": {
      "text/plain": [
       "bool"
      ]
     },
     "execution_count": 9,
     "metadata": {},
     "output_type": "execute_result"
    }
   ],
   "source": [
    "type(d)"
   ]
  },
  {
   "cell_type": "code",
   "execution_count": 11,
   "id": "1931e310-5201-40aa-af5c-2a5a280124c9",
   "metadata": {},
   "outputs": [
    {
     "name": "stdin",
     "output_type": "stream",
     "text": [
      " 5.6j\n"
     ]
    }
   ],
   "source": [
    "d = complex(input())"
   ]
  },
  {
   "cell_type": "code",
   "execution_count": 12,
   "id": "fa0e9292-8e5a-471c-a07d-8be850c5fa79",
   "metadata": {},
   "outputs": [
    {
     "data": {
      "text/plain": [
       "5.6j"
      ]
     },
     "execution_count": 12,
     "metadata": {},
     "output_type": "execute_result"
    }
   ],
   "source": [
    "d"
   ]
  },
  {
   "cell_type": "code",
   "execution_count": 13,
   "id": "324ed475-8e74-4a96-83c7-1bdfc1483441",
   "metadata": {},
   "outputs": [
    {
     "data": {
      "text/plain": [
       "complex"
      ]
     },
     "execution_count": 13,
     "metadata": {},
     "output_type": "execute_result"
    }
   ],
   "source": [
    "type(d)"
   ]
  },
  {
   "cell_type": "code",
   "execution_count": 14,
   "id": "e77a66b7-bdd3-4fa9-b17d-17c148960cb5",
   "metadata": {},
   "outputs": [
    {
     "data": {
      "text/plain": [
       "0.0"
      ]
     },
     "execution_count": 14,
     "metadata": {},
     "output_type": "execute_result"
    }
   ],
   "source": [
    "d.real"
   ]
  },
  {
   "cell_type": "code",
   "execution_count": 15,
   "id": "bec32eeb-ca4e-4b7b-ada9-243d42d8ca19",
   "metadata": {},
   "outputs": [
    {
     "data": {
      "text/plain": [
       "5.6"
      ]
     },
     "execution_count": 15,
     "metadata": {},
     "output_type": "execute_result"
    }
   ],
   "source": [
    "d.imag"
   ]
  },
  {
   "cell_type": "code",
   "execution_count": 16,
   "id": "ff71af53-61a2-4d58-9a67-085a01677429",
   "metadata": {},
   "outputs": [
    {
     "name": "stdin",
     "output_type": "stream",
     "text": [
      " 07.03\n"
     ]
    }
   ],
   "source": [
    "d = float(input())"
   ]
  },
  {
   "cell_type": "code",
   "execution_count": 17,
   "id": "cf0cda3d-a3c7-4789-b1c0-87100f22d382",
   "metadata": {},
   "outputs": [
    {
     "data": {
      "text/plain": [
       "7.03"
      ]
     },
     "execution_count": 17,
     "metadata": {},
     "output_type": "execute_result"
    }
   ],
   "source": [
    "d"
   ]
  },
  {
   "cell_type": "code",
   "execution_count": 18,
   "id": "ac488393-ff0c-4d28-a5ab-5ea9d98d5420",
   "metadata": {},
   "outputs": [
    {
     "data": {
      "text/plain": [
       "float"
      ]
     },
     "execution_count": 18,
     "metadata": {},
     "output_type": "execute_result"
    }
   ],
   "source": [
    "type(d)"
   ]
  },
  {
   "cell_type": "code",
   "execution_count": 19,
   "id": "9e8ea79e-09ed-42da-a8af-1ac8180ab5e5",
   "metadata": {},
   "outputs": [],
   "source": [
    "s = \"adeeba\""
   ]
  },
  {
   "cell_type": "code",
   "execution_count": 20,
   "id": "5f85bfcc-9ee2-477a-889e-27b14c7bacc2",
   "metadata": {},
   "outputs": [
    {
     "data": {
      "text/plain": [
       "'d'"
      ]
     },
     "execution_count": 20,
     "metadata": {},
     "output_type": "execute_result"
    }
   ],
   "source": [
    "s[1]"
   ]
  },
  {
   "cell_type": "code",
   "execution_count": 21,
   "id": "68c02354-fc48-4a19-811d-9931287ca5b6",
   "metadata": {},
   "outputs": [
    {
     "data": {
      "text/plain": [
       "'a'"
      ]
     },
     "execution_count": 21,
     "metadata": {},
     "output_type": "execute_result"
    }
   ],
   "source": [
    "s[0]"
   ]
  },
  {
   "cell_type": "code",
   "execution_count": 22,
   "id": "7a56cde3-bc15-4ae8-bbfd-564ce3f008dd",
   "metadata": {},
   "outputs": [
    {
     "data": {
      "text/plain": [
       "'e'"
      ]
     },
     "execution_count": 22,
     "metadata": {},
     "output_type": "execute_result"
    }
   ],
   "source": [
    "s[2]"
   ]
  },
  {
   "cell_type": "code",
   "execution_count": 23,
   "id": "c2be7db7-06d3-442e-ad82-dffb8feaa986",
   "metadata": {},
   "outputs": [
    {
     "data": {
      "text/plain": [
       "'e'"
      ]
     },
     "execution_count": 23,
     "metadata": {},
     "output_type": "execute_result"
    }
   ],
   "source": [
    "s[3]"
   ]
  },
  {
   "cell_type": "code",
   "execution_count": 24,
   "id": "c8cd7612-004e-4b69-93c2-d411eb4ab443",
   "metadata": {},
   "outputs": [
    {
     "data": {
      "text/plain": [
       "'b'"
      ]
     },
     "execution_count": 24,
     "metadata": {},
     "output_type": "execute_result"
    }
   ],
   "source": [
    "s[4]"
   ]
  },
  {
   "cell_type": "code",
   "execution_count": 25,
   "id": "b427e740-4a9e-4805-8aef-00ba855f1f94",
   "metadata": {},
   "outputs": [
    {
     "data": {
      "text/plain": [
       "'a'"
      ]
     },
     "execution_count": 25,
     "metadata": {},
     "output_type": "execute_result"
    }
   ],
   "source": [
    "s[5]"
   ]
  },
  {
   "cell_type": "code",
   "execution_count": 26,
   "id": "cd5c0bbf-6983-403c-8371-cddae939bc54",
   "metadata": {},
   "outputs": [
    {
     "ename": "IndexError",
     "evalue": "string index out of range",
     "output_type": "error",
     "traceback": [
      "\u001b[0;31m---------------------------------------------------------------------------\u001b[0m",
      "\u001b[0;31mIndexError\u001b[0m                                Traceback (most recent call last)",
      "Cell \u001b[0;32mIn[26], line 1\u001b[0m\n\u001b[0;32m----> 1\u001b[0m \u001b[43ms\u001b[49m\u001b[43m[\u001b[49m\u001b[38;5;241;43m6\u001b[39;49m\u001b[43m]\u001b[49m\n",
      "\u001b[0;31mIndexError\u001b[0m: string index out of range"
     ]
    }
   ],
   "source": [
    "s[6]"
   ]
  },
  {
   "cell_type": "code",
   "execution_count": 27,
   "id": "e5c72148-47aa-4903-9aea-739fd66b543d",
   "metadata": {},
   "outputs": [
    {
     "data": {
      "text/plain": [
       "'a'"
      ]
     },
     "execution_count": 27,
     "metadata": {},
     "output_type": "execute_result"
    }
   ],
   "source": [
    "s[-1]"
   ]
  },
  {
   "cell_type": "code",
   "execution_count": 28,
   "id": "ac197cb1-027f-40c5-9116-5cb422c3cc77",
   "metadata": {},
   "outputs": [
    {
     "data": {
      "text/plain": [
       "'b'"
      ]
     },
     "execution_count": 28,
     "metadata": {},
     "output_type": "execute_result"
    }
   ],
   "source": [
    "s[-2]"
   ]
  },
  {
   "cell_type": "code",
   "execution_count": 29,
   "id": "38f67315-0b46-4f27-9139-bb8fed1a573e",
   "metadata": {},
   "outputs": [
    {
     "data": {
      "text/plain": [
       "'e'"
      ]
     },
     "execution_count": 29,
     "metadata": {},
     "output_type": "execute_result"
    }
   ],
   "source": [
    "s[-3]"
   ]
  },
  {
   "cell_type": "code",
   "execution_count": 30,
   "id": "914984ac-1438-49dd-9e93-18d099cd19ad",
   "metadata": {},
   "outputs": [
    {
     "data": {
      "text/plain": [
       "'e'"
      ]
     },
     "execution_count": 30,
     "metadata": {},
     "output_type": "execute_result"
    }
   ],
   "source": [
    "s[-4]"
   ]
  },
  {
   "cell_type": "code",
   "execution_count": 31,
   "id": "ccd81620-a786-4a94-b3d4-04c6d37a265f",
   "metadata": {},
   "outputs": [
    {
     "data": {
      "text/plain": [
       "'d'"
      ]
     },
     "execution_count": 31,
     "metadata": {},
     "output_type": "execute_result"
    }
   ],
   "source": [
    "s[-5]"
   ]
  },
  {
   "cell_type": "code",
   "execution_count": 32,
   "id": "866f0d3f-edd2-489e-a677-1b6c91820491",
   "metadata": {},
   "outputs": [
    {
     "data": {
      "text/plain": [
       "'a'"
      ]
     },
     "execution_count": 32,
     "metadata": {},
     "output_type": "execute_result"
    }
   ],
   "source": [
    "s[-6]"
   ]
  },
  {
   "cell_type": "code",
   "execution_count": 33,
   "id": "23c6683a-9409-4dda-b331-906b5d10d8bc",
   "metadata": {},
   "outputs": [
    {
     "ename": "IndexError",
     "evalue": "string index out of range",
     "output_type": "error",
     "traceback": [
      "\u001b[0;31m---------------------------------------------------------------------------\u001b[0m",
      "\u001b[0;31mIndexError\u001b[0m                                Traceback (most recent call last)",
      "Cell \u001b[0;32mIn[33], line 1\u001b[0m\n\u001b[0;32m----> 1\u001b[0m \u001b[43ms\u001b[49m\u001b[43m[\u001b[49m\u001b[38;5;241;43m-\u001b[39;49m\u001b[38;5;241;43m7\u001b[39;49m\u001b[43m]\u001b[49m\n",
      "\u001b[0;31mIndexError\u001b[0m: string index out of range"
     ]
    }
   ],
   "source": [
    "s[-7]"
   ]
  },
  {
   "cell_type": "code",
   "execution_count": 2,
   "id": "adba530a-9187-462a-b9f2-1740070bfbf1",
   "metadata": {},
   "outputs": [],
   "source": [
    "s1 = \"pwskills\""
   ]
  },
  {
   "cell_type": "code",
   "execution_count": 3,
   "id": "aed67ef4-8c48-499c-93af-97c8f2c925d1",
   "metadata": {},
   "outputs": [
    {
     "data": {
      "text/plain": [
       "'p'"
      ]
     },
     "execution_count": 3,
     "metadata": {},
     "output_type": "execute_result"
    }
   ],
   "source": [
    "s1[0]"
   ]
  },
  {
   "cell_type": "code",
   "execution_count": 4,
   "id": "eb767ed8-2529-4bf4-b03f-3ad3a0ada712",
   "metadata": {},
   "outputs": [
    {
     "data": {
      "text/plain": [
       "'pw'"
      ]
     },
     "execution_count": 4,
     "metadata": {},
     "output_type": "execute_result"
    }
   ],
   "source": [
    "s1[0:2]"
   ]
  },
  {
   "cell_type": "code",
   "execution_count": 5,
   "id": "acf00e3f-b0a6-408c-9528-b1931f339cc8",
   "metadata": {},
   "outputs": [
    {
     "data": {
      "text/plain": [
       "'skill'"
      ]
     },
     "execution_count": 5,
     "metadata": {},
     "output_type": "execute_result"
    }
   ],
   "source": [
    "s1[2:7]"
   ]
  },
  {
   "cell_type": "code",
   "execution_count": 6,
   "id": "3e1997c6-58bc-42f9-8824-9c88d995d26b",
   "metadata": {},
   "outputs": [
    {
     "data": {
      "text/plain": [
       "'pwskills'"
      ]
     },
     "execution_count": 6,
     "metadata": {},
     "output_type": "execute_result"
    }
   ],
   "source": [
    "s1[0:8]"
   ]
  },
  {
   "cell_type": "code",
   "execution_count": 7,
   "id": "e539f63a-5c69-4161-9be2-a076ededef12",
   "metadata": {},
   "outputs": [
    {
     "data": {
      "text/plain": [
       "'skills'"
      ]
     },
     "execution_count": 7,
     "metadata": {},
     "output_type": "execute_result"
    }
   ],
   "source": [
    "s1[2:8]"
   ]
  },
  {
   "cell_type": "code",
   "execution_count": 8,
   "id": "e92b5352-0735-41b1-b40b-dd4fffd6bd91",
   "metadata": {},
   "outputs": [
    {
     "data": {
      "text/plain": [
       "'pwskills'"
      ]
     },
     "execution_count": 8,
     "metadata": {},
     "output_type": "execute_result"
    }
   ],
   "source": [
    "s1[0:1000]"
   ]
  },
  {
   "cell_type": "code",
   "execution_count": 9,
   "id": "25b29cc5-df6f-44cb-932f-0cc17607e623",
   "metadata": {},
   "outputs": [
    {
     "data": {
      "text/plain": [
       "'wskills'"
      ]
     },
     "execution_count": 9,
     "metadata": {},
     "output_type": "execute_result"
    }
   ],
   "source": [
    "s1[1:]"
   ]
  },
  {
   "cell_type": "code",
   "execution_count": 10,
   "id": "8a53c112-23d5-431f-9b62-30b0b68f77c8",
   "metadata": {},
   "outputs": [
    {
     "data": {
      "text/plain": [
       "'pwskill'"
      ]
     },
     "execution_count": 10,
     "metadata": {},
     "output_type": "execute_result"
    }
   ],
   "source": [
    "s1[0:7]"
   ]
  },
  {
   "cell_type": "code",
   "execution_count": 11,
   "id": "b9e601f1-7135-4e6d-90e2-7b75e4dbcfaa",
   "metadata": {},
   "outputs": [
    {
     "data": {
      "text/plain": [
       "'pwskill'"
      ]
     },
     "execution_count": 11,
     "metadata": {},
     "output_type": "execute_result"
    }
   ],
   "source": [
    "s1[0:7:1]"
   ]
  },
  {
   "cell_type": "code",
   "execution_count": 12,
   "id": "116f57dd-aa4f-4f1a-9791-3cb11ed7db8d",
   "metadata": {},
   "outputs": [
    {
     "data": {
      "text/plain": [
       "'psil'"
      ]
     },
     "execution_count": 12,
     "metadata": {},
     "output_type": "execute_result"
    }
   ],
   "source": [
    "s1[0:7:2]"
   ]
  },
  {
   "cell_type": "code",
   "execution_count": 13,
   "id": "2be720f1-6544-4eb2-b758-ce43a9ff042d",
   "metadata": {},
   "outputs": [
    {
     "data": {
      "text/plain": [
       "'psil'"
      ]
     },
     "execution_count": 13,
     "metadata": {},
     "output_type": "execute_result"
    }
   ],
   "source": [
    "s1[0:8:2]"
   ]
  },
  {
   "cell_type": "code",
   "execution_count": 14,
   "id": "553f1d59-1ba4-429c-b440-1a160f7a97f8",
   "metadata": {},
   "outputs": [
    {
     "data": {
      "text/plain": [
       "'pkl'"
      ]
     },
     "execution_count": 14,
     "metadata": {},
     "output_type": "execute_result"
    }
   ],
   "source": [
    "s1[0:8:3]"
   ]
  },
  {
   "cell_type": "code",
   "execution_count": 15,
   "id": "1a868870-21eb-4bc7-a6c6-d7017a9c96b3",
   "metadata": {},
   "outputs": [
    {
     "data": {
      "text/plain": [
       "'pwskills'"
      ]
     },
     "execution_count": 15,
     "metadata": {},
     "output_type": "execute_result"
    }
   ],
   "source": [
    "s1"
   ]
  },
  {
   "cell_type": "code",
   "execution_count": 16,
   "id": "70bbd382-5e2c-4fbb-9271-4d9e12054db1",
   "metadata": {},
   "outputs": [
    {
     "data": {
      "text/plain": [
       "''"
      ]
     },
     "execution_count": 16,
     "metadata": {},
     "output_type": "execute_result"
    }
   ],
   "source": [
    "s1[7:3]"
   ]
  },
  {
   "cell_type": "code",
   "execution_count": 17,
   "id": "b4b5cb8f-d319-4daf-a36c-90934119167b",
   "metadata": {},
   "outputs": [
    {
     "data": {
      "text/plain": [
       "'slli'"
      ]
     },
     "execution_count": 17,
     "metadata": {},
     "output_type": "execute_result"
    }
   ],
   "source": [
    "s1[7:3:-1]"
   ]
  },
  {
   "cell_type": "code",
   "execution_count": 18,
   "id": "d4625b4e-aff5-4331-a91f-0e812243b6bf",
   "metadata": {},
   "outputs": [
    {
     "data": {
      "text/plain": [
       "''"
      ]
     },
     "execution_count": 18,
     "metadata": {},
     "output_type": "execute_result"
    }
   ],
   "source": [
    "s1[7:3:1]"
   ]
  },
  {
   "cell_type": "code",
   "execution_count": 19,
   "id": "50ff0bfc-947b-459e-af65-a8248468b31e",
   "metadata": {},
   "outputs": [
    {
     "data": {
      "text/plain": [
       "''"
      ]
     },
     "execution_count": 19,
     "metadata": {},
     "output_type": "execute_result"
    }
   ],
   "source": [
    "s1[7:1:1]"
   ]
  },
  {
   "cell_type": "code",
   "execution_count": 20,
   "id": "ec0dacd2-b045-4bf2-b164-b9d0084faae2",
   "metadata": {},
   "outputs": [
    {
     "data": {
      "text/plain": [
       "'slliks'"
      ]
     },
     "execution_count": 20,
     "metadata": {},
     "output_type": "execute_result"
    }
   ],
   "source": [
    "s1[7:1:-1]"
   ]
  },
  {
   "cell_type": "code",
   "execution_count": 21,
   "id": "93e9adf4-b16e-4f22-928f-e36fe3616bad",
   "metadata": {},
   "outputs": [
    {
     "data": {
      "text/plain": [
       "'sllik'"
      ]
     },
     "execution_count": 21,
     "metadata": {},
     "output_type": "execute_result"
    }
   ],
   "source": [
    "s1[7:2:-1]"
   ]
  },
  {
   "cell_type": "code",
   "execution_count": 22,
   "id": "a9a929c4-3e2f-4e0b-a24e-189838ce2004",
   "metadata": {},
   "outputs": [
    {
     "data": {
      "text/plain": [
       "'slliksw'"
      ]
     },
     "execution_count": 22,
     "metadata": {},
     "output_type": "execute_result"
    }
   ],
   "source": [
    "s1[7:0:-1]"
   ]
  },
  {
   "cell_type": "code",
   "execution_count": 23,
   "id": "2d9fea3a-e3b6-4e1f-8a1e-12bc52c3140b",
   "metadata": {},
   "outputs": [
    {
     "data": {
      "text/plain": [
       "'slkw'"
      ]
     },
     "execution_count": 23,
     "metadata": {},
     "output_type": "execute_result"
    }
   ],
   "source": [
    "s1[7:0:-2]"
   ]
  },
  {
   "cell_type": "code",
   "execution_count": 24,
   "id": "075a0b3f-e513-489b-840f-b74fe091680f",
   "metadata": {},
   "outputs": [
    {
     "data": {
      "text/plain": [
       "''"
      ]
     },
     "execution_count": 24,
     "metadata": {},
     "output_type": "execute_result"
    }
   ],
   "source": [
    "s1[7:0:1]"
   ]
  },
  {
   "cell_type": "code",
   "execution_count": 25,
   "id": "a6802a8f-7dca-4a23-8a02-b2a70a94a004",
   "metadata": {},
   "outputs": [
    {
     "data": {
      "text/plain": [
       "''"
      ]
     },
     "execution_count": 25,
     "metadata": {},
     "output_type": "execute_result"
    }
   ],
   "source": [
    "s1[7:0]"
   ]
  },
  {
   "cell_type": "code",
   "execution_count": 26,
   "id": "1eb75e8b-977c-4016-9bb7-317b30886b00",
   "metadata": {},
   "outputs": [
    {
     "data": {
      "text/plain": [
       "''"
      ]
     },
     "execution_count": 26,
     "metadata": {},
     "output_type": "execute_result"
    }
   ],
   "source": [
    "s1[7:0:2]"
   ]
  },
  {
   "cell_type": "code",
   "execution_count": 27,
   "id": "80de82bd-1dd4-4103-91a3-1c6c61ed4283",
   "metadata": {},
   "outputs": [
    {
     "data": {
      "text/plain": [
       "'siw'"
      ]
     },
     "execution_count": 27,
     "metadata": {},
     "output_type": "execute_result"
    }
   ],
   "source": [
    "s1[7:0:-3]"
   ]
  },
  {
   "cell_type": "code",
   "execution_count": 28,
   "id": "eb118a65-aaec-4f32-9532-97862e03b3f9",
   "metadata": {},
   "outputs": [
    {
     "data": {
      "text/plain": [
       "'sk'"
      ]
     },
     "execution_count": 28,
     "metadata": {},
     "output_type": "execute_result"
    }
   ],
   "source": [
    "s1[7:0:-4]"
   ]
  },
  {
   "cell_type": "code",
   "execution_count": 29,
   "id": "544f6fc7-7d0e-48fa-b2aa-e62a30e25374",
   "metadata": {},
   "outputs": [
    {
     "data": {
      "text/plain": [
       "'ss'"
      ]
     },
     "execution_count": 29,
     "metadata": {},
     "output_type": "execute_result"
    }
   ],
   "source": [
    "s1[7:0:-5]"
   ]
  },
  {
   "cell_type": "code",
   "execution_count": 30,
   "id": "ff44503b-3fd1-4daf-9005-c5b9ad7c039e",
   "metadata": {},
   "outputs": [
    {
     "data": {
      "text/plain": [
       "''"
      ]
     },
     "execution_count": 30,
     "metadata": {},
     "output_type": "execute_result"
    }
   ],
   "source": [
    "s1[-1:-5]"
   ]
  },
  {
   "cell_type": "code",
   "execution_count": 31,
   "id": "10cb3e14-651a-422c-a5f8-9c72c21f76b6",
   "metadata": {},
   "outputs": [
    {
     "data": {
      "text/plain": [
       "'slli'"
      ]
     },
     "execution_count": 31,
     "metadata": {},
     "output_type": "execute_result"
    }
   ],
   "source": [
    "s1[-1:-5:-1]"
   ]
  },
  {
   "cell_type": "code",
   "execution_count": 32,
   "id": "82c220a4-a792-404a-9554-60de6ee807ea",
   "metadata": {},
   "outputs": [
    {
     "data": {
      "text/plain": [
       "'sl'"
      ]
     },
     "execution_count": 32,
     "metadata": {},
     "output_type": "execute_result"
    }
   ],
   "source": [
    "s1[-1:-5:-2]"
   ]
  },
  {
   "cell_type": "code",
   "execution_count": 33,
   "id": "ada44d27-1849-404b-abd4-957305a12704",
   "metadata": {},
   "outputs": [
    {
     "data": {
      "text/plain": [
       "''"
      ]
     },
     "execution_count": 33,
     "metadata": {},
     "output_type": "execute_result"
    }
   ],
   "source": [
    "s1[-1:-8]"
   ]
  },
  {
   "cell_type": "code",
   "execution_count": 34,
   "id": "07390616-9469-487e-b926-52c0d4e8c3b4",
   "metadata": {},
   "outputs": [
    {
     "data": {
      "text/plain": [
       "''"
      ]
     },
     "execution_count": 34,
     "metadata": {},
     "output_type": "execute_result"
    }
   ],
   "source": [
    "s1[7:0]"
   ]
  },
  {
   "cell_type": "code",
   "execution_count": 35,
   "id": "aeb8ee16-1721-426f-a010-afe4ed8d8d3c",
   "metadata": {},
   "outputs": [
    {
     "data": {
      "text/plain": [
       "'slliksw'"
      ]
     },
     "execution_count": 35,
     "metadata": {},
     "output_type": "execute_result"
    }
   ],
   "source": [
    "s1[7:0:-1]"
   ]
  },
  {
   "cell_type": "code",
   "execution_count": 36,
   "id": "aa322ec2-c553-4068-9bbc-8ada0444f02b",
   "metadata": {},
   "outputs": [
    {
     "data": {
      "text/plain": [
       "'slkw'"
      ]
     },
     "execution_count": 36,
     "metadata": {},
     "output_type": "execute_result"
    }
   ],
   "source": [
    "s1[7:0:-2]"
   ]
  },
  {
   "cell_type": "code",
   "execution_count": 37,
   "id": "833255f9-a458-4831-a739-ae7994a646a7",
   "metadata": {},
   "outputs": [
    {
     "data": {
      "text/plain": [
       "'siw'"
      ]
     },
     "execution_count": 37,
     "metadata": {},
     "output_type": "execute_result"
    }
   ],
   "source": [
    "s1[7:0:-3]"
   ]
  },
  {
   "cell_type": "code",
   "execution_count": 38,
   "id": "653f4a7b-a8f6-4eea-b4f2-4540c5b86a76",
   "metadata": {},
   "outputs": [
    {
     "data": {
      "text/plain": [
       "'sk'"
      ]
     },
     "execution_count": 38,
     "metadata": {},
     "output_type": "execute_result"
    }
   ],
   "source": [
    "s1[7:0:-4]"
   ]
  },
  {
   "cell_type": "code",
   "execution_count": 39,
   "id": "88bcb0b8-41ef-45c7-bdc0-e220db02cb16",
   "metadata": {},
   "outputs": [
    {
     "data": {
      "text/plain": [
       "'sllikswp'"
      ]
     },
     "execution_count": 39,
     "metadata": {},
     "output_type": "execute_result"
    }
   ],
   "source": [
    "s1[7:-9:-1]"
   ]
  },
  {
   "cell_type": "code",
   "execution_count": 40,
   "id": "985a80ec-1a0e-4b33-b791-464b1ab81bf7",
   "metadata": {},
   "outputs": [
    {
     "data": {
      "text/plain": [
       "'slliksw'"
      ]
     },
     "execution_count": 40,
     "metadata": {},
     "output_type": "execute_result"
    }
   ],
   "source": [
    "s1[7:-8:-1]"
   ]
  },
  {
   "cell_type": "code",
   "execution_count": 41,
   "id": "839b5333-3f6d-4ecb-804b-6345acfa977c",
   "metadata": {},
   "outputs": [
    {
     "data": {
      "text/plain": [
       "'slliks'"
      ]
     },
     "execution_count": 41,
     "metadata": {},
     "output_type": "execute_result"
    }
   ],
   "source": [
    "s1[7:-7:-1]"
   ]
  },
  {
   "cell_type": "code",
   "execution_count": 43,
   "id": "d723a546-4416-4c6d-aee9-ab02caf0a180",
   "metadata": {},
   "outputs": [
    {
     "data": {
      "text/plain": [
       "'sllikswp'"
      ]
     },
     "execution_count": 43,
     "metadata": {},
     "output_type": "execute_result"
    }
   ],
   "source": [
    "s1[7:-700:-1]"
   ]
  },
  {
   "cell_type": "code",
   "execution_count": 44,
   "id": "afe5c663-d3be-4e0b-8d6b-ff626a3238d4",
   "metadata": {},
   "outputs": [
    {
     "data": {
      "text/plain": [
       "'sllikswp'"
      ]
     },
     "execution_count": 44,
     "metadata": {},
     "output_type": "execute_result"
    }
   ],
   "source": [
    "s1[7:-900:-1]"
   ]
  },
  {
   "cell_type": "code",
   "execution_count": 45,
   "id": "ab7888a1-5338-4c9b-b99d-019012026f44",
   "metadata": {},
   "outputs": [
    {
     "data": {
      "text/plain": [
       "'sllikswp'"
      ]
     },
     "execution_count": 45,
     "metadata": {},
     "output_type": "execute_result"
    }
   ],
   "source": [
    "s1[7:-800:-1]"
   ]
  },
  {
   "cell_type": "code",
   "execution_count": 46,
   "id": "08f9bbe9-5d78-49c8-921b-e1a90c25dc1f",
   "metadata": {},
   "outputs": [
    {
     "data": {
      "text/plain": [
       "'sllikswp'"
      ]
     },
     "execution_count": 46,
     "metadata": {},
     "output_type": "execute_result"
    }
   ],
   "source": [
    "s1[7::-1]"
   ]
  },
  {
   "cell_type": "code",
   "execution_count": 47,
   "id": "0757f4d7-8d43-486e-b8fa-84978a36e0b9",
   "metadata": {},
   "outputs": [
    {
     "data": {
      "text/plain": [
       "'s'"
      ]
     },
     "execution_count": 47,
     "metadata": {},
     "output_type": "execute_result"
    }
   ],
   "source": [
    "s1[7::1]"
   ]
  },
  {
   "cell_type": "code",
   "execution_count": 48,
   "id": "d6442997-27f7-4503-b147-b0c7cf1891d9",
   "metadata": {},
   "outputs": [
    {
     "data": {
      "text/plain": [
       "'sllikswp'"
      ]
     },
     "execution_count": 48,
     "metadata": {},
     "output_type": "execute_result"
    }
   ],
   "source": [
    "s1[::-1]"
   ]
  },
  {
   "cell_type": "code",
   "execution_count": 51,
   "id": "86776da4-6453-466c-810b-0a9c6ae29d15",
   "metadata": {},
   "outputs": [
    {
     "data": {
      "text/plain": [
       "''"
      ]
     },
     "execution_count": 51,
     "metadata": {},
     "output_type": "execute_result"
    }
   ],
   "source": [
    "s1[0:5:-1]"
   ]
  },
  {
   "cell_type": "code",
   "execution_count": 53,
   "id": "5632b2e4-d299-4b15-8aff-f414467cf643",
   "metadata": {},
   "outputs": [
    {
     "data": {
      "text/plain": [
       "'psi'"
      ]
     },
     "execution_count": 53,
     "metadata": {},
     "output_type": "execute_result"
    }
   ],
   "source": [
    "s1[-9:-3:2]"
   ]
  },
  {
   "cell_type": "code",
   "execution_count": 54,
   "id": "f7682d27-6515-4d8b-98e5-ccddfe3b73eb",
   "metadata": {},
   "outputs": [
    {
     "data": {
      "text/plain": [
       "'psi'"
      ]
     },
     "execution_count": 54,
     "metadata": {},
     "output_type": "execute_result"
    }
   ],
   "source": [
    "s1[-9:-2:2]"
   ]
  },
  {
   "cell_type": "code",
   "execution_count": 55,
   "id": "704d6281-b335-462c-9c6e-7fd7e3f0aabc",
   "metadata": {},
   "outputs": [
    {
     "data": {
      "text/plain": [
       "'psil'"
      ]
     },
     "execution_count": 55,
     "metadata": {},
     "output_type": "execute_result"
    }
   ],
   "source": [
    "s1[-9:-1:2]"
   ]
  },
  {
   "cell_type": "code",
   "execution_count": 56,
   "id": "e34400ec-61fd-4731-bfef-3b1fcbf465da",
   "metadata": {},
   "outputs": [
    {
     "data": {
      "text/plain": [
       "'skills'"
      ]
     },
     "execution_count": 56,
     "metadata": {},
     "output_type": "execute_result"
    }
   ],
   "source": [
    "s1[2:8]"
   ]
  },
  {
   "cell_type": "code",
   "execution_count": 57,
   "id": "3eebda52-09f5-4f2d-aef4-7a28f28f15d1",
   "metadata": {},
   "outputs": [
    {
     "data": {
      "text/plain": [
       "'skill'"
      ]
     },
     "execution_count": 57,
     "metadata": {},
     "output_type": "execute_result"
    }
   ],
   "source": [
    "s1[2:7]"
   ]
  },
  {
   "cell_type": "code",
   "execution_count": 58,
   "id": "a7456d9e-8c33-4159-a56b-d84153928243",
   "metadata": {},
   "outputs": [
    {
     "data": {
      "text/plain": [
       "'pw'"
      ]
     },
     "execution_count": 58,
     "metadata": {},
     "output_type": "execute_result"
    }
   ],
   "source": [
    "s1[0:2]"
   ]
  },
  {
   "cell_type": "markdown",
   "id": "b32b3307-65ca-4f8e-9ca2-4187385a3bd0",
   "metadata": {},
   "source": [
    "These are called as string slicing and string indexing."
   ]
  },
  {
   "cell_type": "code",
   "execution_count": 65,
   "id": "b4851c65-cc5a-4072-8adc-1e0f021a3c6e",
   "metadata": {},
   "outputs": [],
   "source": [
    "s1 = \"pwskills\""
   ]
  },
  {
   "cell_type": "code",
   "execution_count": 66,
   "id": "4ead502e-df0d-4448-babe-157fe85b448c",
   "metadata": {},
   "outputs": [
    {
     "data": {
      "text/plain": [
       "'pwskills'"
      ]
     },
     "execution_count": 66,
     "metadata": {},
     "output_type": "execute_result"
    }
   ],
   "source": [
    "s1"
   ]
  },
  {
   "cell_type": "code",
   "execution_count": 67,
   "id": "ea27280c-4f75-4e55-a583-b182222d6b8d",
   "metadata": {},
   "outputs": [
    {
     "data": {
      "text/plain": [
       "'p'"
      ]
     },
     "execution_count": 67,
     "metadata": {},
     "output_type": "execute_result"
    }
   ],
   "source": [
    "s1[0]"
   ]
  },
  {
   "cell_type": "code",
   "execution_count": 68,
   "id": "cbf393b0-0c3c-4b25-9cc4-82bbd71bef0b",
   "metadata": {},
   "outputs": [],
   "source": [
    "a=10"
   ]
  },
  {
   "cell_type": "code",
   "execution_count": 69,
   "id": "efe78343-aed4-44a2-92bb-de9f856eaa8e",
   "metadata": {},
   "outputs": [],
   "source": [
    "a=20"
   ]
  },
  {
   "cell_type": "code",
   "execution_count": 70,
   "id": "ebb2b8c1-3228-4ae0-a0fe-6b523ceb5bff",
   "metadata": {},
   "outputs": [
    {
     "data": {
      "text/plain": [
       "20"
      ]
     },
     "execution_count": 70,
     "metadata": {},
     "output_type": "execute_result"
    }
   ],
   "source": [
    "a"
   ]
  },
  {
   "cell_type": "code",
   "execution_count": 71,
   "id": "332058be-4810-4c41-a2f0-2ff11860368e",
   "metadata": {},
   "outputs": [
    {
     "ename": "TypeError",
     "evalue": "'str' object does not support item assignment",
     "output_type": "error",
     "traceback": [
      "\u001b[0;31m---------------------------------------------------------------------------\u001b[0m",
      "\u001b[0;31mTypeError\u001b[0m                                 Traceback (most recent call last)",
      "Cell \u001b[0;32mIn[71], line 1\u001b[0m\n\u001b[0;32m----> 1\u001b[0m \u001b[43ms1\u001b[49m\u001b[43m[\u001b[49m\u001b[38;5;241;43m0\u001b[39;49m\u001b[43m]\u001b[49m \u001b[38;5;241m=\u001b[39m \u001b[38;5;124m'\u001b[39m\u001b[38;5;124ms\u001b[39m\u001b[38;5;124m'\u001b[39m\n",
      "\u001b[0;31mTypeError\u001b[0m: 'str' object does not support item assignment"
     ]
    }
   ],
   "source": [
    "s1[0] = 's'"
   ]
  },
  {
   "cell_type": "code",
   "execution_count": 72,
   "id": "bc123544-61fa-4c3a-8795-de6ad2982abf",
   "metadata": {},
   "outputs": [
    {
     "ename": "TypeError",
     "evalue": "'str' object does not support item assignment",
     "output_type": "error",
     "traceback": [
      "\u001b[0;31m---------------------------------------------------------------------------\u001b[0m",
      "\u001b[0;31mTypeError\u001b[0m                                 Traceback (most recent call last)",
      "Cell \u001b[0;32mIn[72], line 1\u001b[0m\n\u001b[0;32m----> 1\u001b[0m \u001b[43ms1\u001b[49m\u001b[43m[\u001b[49m\u001b[38;5;241;43m0\u001b[39;49m\u001b[43m]\u001b[49m \u001b[38;5;241m=\u001b[39m \u001b[38;5;124m'\u001b[39m\u001b[38;5;124mp\u001b[39m\u001b[38;5;124m'\u001b[39m\n",
      "\u001b[0;31mTypeError\u001b[0m: 'str' object does not support item assignment"
     ]
    }
   ],
   "source": [
    "s1[0] = 'p'"
   ]
  },
  {
   "cell_type": "code",
   "execution_count": null,
   "id": "aa2258d6-4608-45e9-8ffc-0d2dd1cb3a53",
   "metadata": {},
   "outputs": [],
   "source": []
  }
 ],
 "metadata": {
  "kernelspec": {
   "display_name": "Python 3 (ipykernel)",
   "language": "python",
   "name": "python3"
  },
  "language_info": {
   "codemirror_mode": {
    "name": "ipython",
    "version": 3
   },
   "file_extension": ".py",
   "mimetype": "text/x-python",
   "name": "python",
   "nbconvert_exporter": "python",
   "pygments_lexer": "ipython3",
   "version": "3.10.8"
  }
 },
 "nbformat": 4,
 "nbformat_minor": 5
}
